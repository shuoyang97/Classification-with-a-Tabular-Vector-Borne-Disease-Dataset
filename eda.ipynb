{
 "cells": [
  {
   "attachments": {},
   "cell_type": "markdown",
   "metadata": {},
   "source": [
    "## Classification With A Tabular Vector Borne Diesease Dataset"
   ]
  },
  {
   "cell_type": "code",
   "execution_count": 5,
   "metadata": {
    "collapsed": true
   },
   "outputs": [],
   "source": [
    "# import packages\n",
    "import numpy as np\n",
    "import seaborn as sb\n",
    "import sklearn as skl\n",
    "import pandas as pd\n",
    "import matplotlib.pyplot as plt\n"
   ]
  },
  {
   "cell_type": "code",
   "execution_count": 26,
   "metadata": {},
   "outputs": [
    {
     "name": "stdout",
     "output_type": "stream",
     "text": [
      "               id  sudden_fever    headache  mouth_bleed  nose_bleed  \\\n",
      "count  707.000000    707.000000  707.000000   707.000000  707.000000   \n",
      "mean   353.000000      0.503536    0.449788     0.459689    0.487977   \n",
      "std    204.237607      0.500341    0.497825     0.498725    0.500209   \n",
      "min      0.000000      0.000000    0.000000     0.000000    0.000000   \n",
      "25%    176.500000      0.000000    0.000000     0.000000    0.000000   \n",
      "\n",
      "       muscle_pain  joint_pain    vomiting        rash    diarrhea  ...  \\\n",
      "count   707.000000  707.000000  707.000000  707.000000  707.000000  ...   \n",
      "mean      0.517680    0.449788    0.441301    0.487977    0.390382  ...   \n",
      "std       0.500041    0.497825    0.496894    0.500209    0.488181  ...   \n",
      "min       0.000000    0.000000    0.000000    0.000000    0.000000  ...   \n",
      "25%       0.000000    0.000000    0.000000    0.000000    0.000000  ...   \n",
      "\n",
      "       lymph_swells  breathing_restriction  toe_inflammation  \\\n",
      "count    707.000000             707.000000        707.000000   \n",
      "mean       0.148515               0.072136          0.097595   \n",
      "std        0.355861               0.258896          0.296977   \n",
      "min        0.000000               0.000000          0.000000   \n",
      "25%        0.000000               0.000000          0.000000   \n",
      "\n",
      "       finger_inflammation  lips_irritation   itchiness      ulcers  \\\n",
      "count           707.000000       707.000000  707.000000  707.000000   \n",
      "mean              0.079208         0.084866    0.154173    0.144272   \n",
      "std               0.270254         0.278879    0.361370    0.351614   \n",
      "min               0.000000         0.000000    0.000000    0.000000   \n",
      "25%               0.000000         0.000000    0.000000    0.000000   \n",
      "\n",
      "       toenail_loss  speech_problem  bullseye_rash  \n",
      "count    707.000000      707.000000     707.000000  \n",
      "mean       0.137199        0.032532       0.031117  \n",
      "std        0.344301        0.177533       0.173758  \n",
      "min        0.000000        0.000000       0.000000  \n",
      "25%        0.000000        0.000000       0.000000  \n",
      "\n",
      "[5 rows x 65 columns]\n",
      "Head of dataset: \n",
      "   id  sudden_fever  headache  mouth_bleed  nose_bleed  muscle_pain  \\\n",
      "0   0           1.0       1.0          0.0         1.0          1.0   \n",
      "1   1           0.0       0.0          0.0         0.0          0.0   \n",
      "2   2           0.0       1.0          1.0         1.0          0.0   \n",
      "3   3           0.0       0.0          1.0         1.0          1.0   \n",
      "4   4           0.0       0.0          0.0         0.0          0.0   \n",
      "\n",
      "   joint_pain  vomiting  rash  diarrhea  ...  breathing_restriction  \\\n",
      "0         1.0       1.0   0.0       1.0  ...                    0.0   \n",
      "1         0.0       1.0   0.0       1.0  ...                    0.0   \n",
      "2         1.0       1.0   1.0       1.0  ...                    1.0   \n",
      "3         1.0       0.0   1.0       0.0  ...                    0.0   \n",
      "4         0.0       0.0   0.0       1.0  ...                    0.0   \n",
      "\n",
      "   toe_inflammation  finger_inflammation  lips_irritation  itchiness  ulcers  \\\n",
      "0               0.0                  0.0              0.0        0.0     0.0   \n",
      "1               0.0                  0.0              0.0        0.0     0.0   \n",
      "2               1.0                  1.0              1.0        1.0     0.0   \n",
      "3               0.0                  0.0              0.0        0.0     0.0   \n",
      "4               1.0                  0.0              0.0        1.0     1.0   \n",
      "\n",
      "   toenail_loss  speech_problem  bullseye_rash          prognosis  \n",
      "0           0.0             0.0            0.0       Lyme_disease  \n",
      "1           0.0             0.0            0.0          Tungiasis  \n",
      "2           1.0             1.0            1.0       Lyme_disease  \n",
      "3           0.0             0.0            0.0               Zika  \n",
      "4           1.0             0.0            0.0  Rift_Valley_fever  \n",
      "\n",
      "[5 rows x 66 columns]\n"
     ]
    }
   ],
   "source": [
    "# read files and show basic information of dataset\n",
    "path = '/Users/shuoyang/Documents/GitHub/Classification-with-a-Tabular-Vector-Borne-Disease-Dataset/dataset/train.csv'\n",
    "df =  pd.DataFrame(pd.read_csv(path))\n",
    "print(df.describe().head(5))\n",
    "print(\"Head of dataset: \")\n",
    "print(df.head())"
   ]
  },
  {
   "cell_type": "code",
   "execution_count": 43,
   "metadata": {},
   "outputs": [
    {
     "name": "stdout",
     "output_type": "stream",
     "text": [
      "West_Nile_fever          85\n",
      "Japanese_encephalitis    81\n",
      "Tungiasis                70\n",
      "Rift_Valley_fever        70\n",
      "Chikungunya              66\n",
      "Dengue                   63\n",
      "Yellow_Fever             61\n",
      "Zika                     58\n",
      "Plague                   53\n",
      "Lyme_disease             52\n",
      "Malaria                  48\n",
      "Name: prognosis, dtype: int64\n"
     ]
    },
    {
     "data": {
      "text/plain": [
       "<BarContainer object of 11 artists>"
      ]
     },
     "execution_count": 43,
     "metadata": {},
     "output_type": "execute_result"
    },
    {
     "data": {
      "image/png": "[encoded data removed]",
      "text/plain": [
       "<Figure size 640x480 with 1 Axes>"
      ]
     },
     "metadata": {},
     "output_type": "display_data"
    }
   ],
   "source": [
    "prognosis = df['prognosis']\n",
    "prog_counts = pd.DataFrame(pd.value_counts(prognosis))\n",
    "index = prog_counts.index\n",
    "counts = prog_counts['prognosis']\n",
    "print(counts)\n",
    "fig, ax = plt.subplots()\n",
    "ax.barh(index, counts, color='#6699CC')"
   ]
  },
  {
   "cell_type": "code",
   "execution_count": null,
   "metadata": {},
   "outputs": [],
   "source": []
  }
 ],
 "metadata": {
  "kernelspec": {
   "display_name": "Python 3",
   "language": "python",
   "name": "python3"
  },
  "language_info": {
   "codemirror_mode": {
    "name": "ipython",
    "version": 3
   },
   "file_extension": ".py",
   "mimetype": "text/x-python",
   "name": "python",
   "nbconvert_exporter": "python",
   "pygments_lexer": "ipython3",
   "version": "3.9.13"
  }
 },
 "nbformat": 4,
 "nbformat_minor": 0
}
